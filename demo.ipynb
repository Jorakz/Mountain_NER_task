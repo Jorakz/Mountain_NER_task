{
 "nbformat": 4,
 "nbformat_minor": 0,
 "metadata": {
  "colab": {
   "provenance": []
  },
  "kernelspec": {
   "name": "python3",
   "language": "python",
   "display_name": "Python 3 (ipykernel)"
  },
  "language_info": {
   "name": "python"
  }
 },
 "cells": [
  {
   "cell_type": "code",
   "execution_count": 3,
   "metadata": {
    "id": "aVNX-yha7r9A",
    "ExecuteTime": {
     "end_time": "2024-10-11T00:21:16.560025100Z",
     "start_time": "2024-10-11T00:21:13.097616800Z"
    }
   },
   "outputs": [
    {
     "name": "stdout",
     "output_type": "stream",
     "text": [
      "[('[CLS]', 'O'), ('k', 'B-LOG'), ('##2', 'I-LOG'), (',', 'O'), ('known', 'O'), ('for', 'O'), ('its', 'O'), ('challenging', 'O'), ('climbs', 'O'), ('and', 'O'), ('technical', 'O'), ('difficulties', 'O'), (',', 'O'), ('is', 'O'), ('often', 'O'), ('considered', 'O'), ('a', 'O'), ('more', 'O'), ('da', 'O'), ('##unt', 'O'), ('##ing', 'O'), ('ascent', 'O'), ('than', 'O'), ('everest', 'B-LOG'), (',', 'O'), ('despite', 'O'), ('everest', 'B-LOG'), ('being', 'O'), ('the', 'O'), ('worlds', 'O'), ('highest', 'O'), ('peak', 'O'), ('.', 'O'), ('[SEP]', 'O')]\n"
     ]
    }
   ],
   "source": [
    "import torch\n",
    "from transformers import BertTokenizer, BertForTokenClassification  # Change here\n",
    "import pandas as pd\n",
    "model_path = 'model_NER'\n",
    "tokenizer = BertTokenizer.from_pretrained(model_path)\n",
    "model = BertForTokenClassification.from_pretrained(model_path)\n",
    "\n",
    "model.eval()\n",
    "id2tag = {0: 'O', 1: 'B-LOG', 2: 'I-LOG'}\n",
    "\n",
    "def predict(text):\n",
    "    inputs = tokenizer(text, return_tensors='pt', truncation=True, padding=True, max_length=512)\n",
    "\n",
    "    with torch.no_grad():\n",
    "        outputs = model(**inputs)\n",
    "\n",
    "    tokens = tokenizer.convert_ids_to_tokens(inputs[\"input_ids\"].squeeze().tolist())\n",
    "    predictions = outputs.logits.argmax(dim=2).squeeze().tolist()\n",
    "    predicted_labels = [id2tag[pred] for pred in predictions]\n",
    "\n",
    "    for i in range(1, len(tokens)):\n",
    "        if tokens[i].startswith('##') and predicted_labels[i-1] in ['B-LOG', 'I-LOG']:\n",
    "            predicted_labels[i] = 'I-LOG'\n",
    "\n",
    "    prediction_pairs = list(zip(tokens, predicted_labels))\n",
    "    return prediction_pairs\n",
    "\n",
    "if __name__ == \"__main__\":\n",
    "    text ='K2, known for its challenging climbs and technical difficulties, is often considered a more daunting ascent than Everest, despite Everest being the worlds highest peak.'\n",
    "    prediction = predict(text)\n",
    "\n",
    "    print(prediction)"
   ]
  },
  {
   "cell_type": "code",
   "execution_count": 4,
   "outputs": [
    {
     "name": "stdout",
     "output_type": "stream",
     "text": [
      "           Token Predicted Label\n",
      "0          [CLS]               O\n",
      "1              k           B-LOG\n",
      "2            ##2           I-LOG\n",
      "3              ,               O\n",
      "4          known               O\n",
      "5            for               O\n",
      "6            its               O\n",
      "7    challenging               O\n",
      "8         climbs               O\n",
      "9            and               O\n",
      "10     technical               O\n",
      "11  difficulties               O\n",
      "12             ,               O\n",
      "13            is               O\n",
      "14         often               O\n",
      "15    considered               O\n",
      "16             a               O\n",
      "17          more               O\n",
      "18            da               O\n",
      "19         ##unt               O\n",
      "20         ##ing               O\n",
      "21        ascent               O\n",
      "22          than               O\n",
      "23       everest           B-LOG\n",
      "24             ,               O\n",
      "25       despite               O\n",
      "26       everest           B-LOG\n",
      "27         being               O\n",
      "28           the               O\n",
      "29        worlds               O\n",
      "30       highest               O\n",
      "31          peak               O\n",
      "32             .               O\n",
      "33         [SEP]               O\n"
     ]
    }
   ],
   "source": [
    "    df = pd.DataFrame(prediction, columns=['Token', 'Predicted Label'])\n",
    "    print(df)"
   ],
   "metadata": {
    "collapsed": false,
    "ExecuteTime": {
     "end_time": "2024-10-11T00:21:19.521503400Z",
     "start_time": "2024-10-11T00:21:19.454702700Z"
    }
   }
  },
  {
   "cell_type": "code",
   "execution_count": null,
   "outputs": [],
   "source": [],
   "metadata": {
    "collapsed": false
   }
  }
 ]
}
